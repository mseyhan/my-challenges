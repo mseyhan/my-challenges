{
 "metadata": {
  "language_info": {
   "codemirror_mode": {
    "name": "ipython",
    "version": 3
   },
   "file_extension": ".py",
   "mimetype": "text/x-python",
   "name": "python",
   "nbconvert_exporter": "python",
   "pygments_lexer": "ipython3",
   "version": "3.7.6-final"
  },
  "orig_nbformat": 2,
  "kernelspec": {
   "name": "python3",
   "display_name": "Python 3",
   "language": "python"
  }
 },
 "nbformat": 4,
 "nbformat_minor": 2,
 "cells": [
  {
   "cell_type": "code",
   "execution_count": 53,
   "metadata": {},
   "outputs": [],
   "source": [
    "# This was a data cleaning challenge for me while i was studying. The dataset is the anti-icing early warning system of Municipality of Istanbul. The dataset includes raw data types such as unmerged and unstandardized datetime data, NA values, unmeasured datas, etc. Inside the excel file, there are different sheets which indicates the location of the values measured. Back in the days, I wanted to write a code in a holistic perspective which enables me to clean every row, and fill the rows with the exact way that I chose. Iteration through the sheets of the file was the key point to save me from being manual in this case. "
   ]
  },
  {
   "cell_type": "code",
   "execution_count": 54,
   "metadata": {},
   "outputs": [
    {
     "output_type": "execute_result",
     "data": {
      "text/plain": [
       "     Verinin Yılı  Gün / Ay Min_Hava_S_Z Min_Hava_S Maks_Hava_S_Z Maks_Hava_S  \\\n",
       "130        2018.0   8 Şubat     21:46:00       6.93      10:17:00       18.66   \n",
       "132        2018.0  10 Şubat          ///        ///           ///         ///   \n",
       "140        2018.0  18 Şubat          ///        ///           ///         ///   \n",
       "\n",
       "    Ort_Hava_S Min_Nem_Z Min_Nem Maks_NemZ  ... Min_AktuelB Maks_AktuelB_Z  \\\n",
       "130      10.55  10:22:00   49.52  01:14:00  ...         NaN            NaN   \n",
       "132        ///       ///     ///       ///  ...         NaN            NaN   \n",
       "140        ///       ///     ///       ///  ...         NaN            NaN   \n",
       "\n",
       "    Maks_AktuelB Ort_AktuelB Top_Yagis Min_Yol_S_Z Min_Yol_S Maks_Yol_S_Z  \\\n",
       "130          NaN         NaN       ///    23:30:00       5.8     10:38:00   \n",
       "132          NaN         NaN       ///         ///       ///          ///   \n",
       "140          NaN         NaN       ///         ///       ///          ///   \n",
       "\n",
       "    Maks_Yol_S Ort_Yol_S  \n",
       "130         20      9.82  \n",
       "132        ///       ///  \n",
       "140        ///       ///  \n",
       "\n",
       "[3 rows x 29 columns]"
      ],
      "text/html": "<div>\n<style scoped>\n    .dataframe tbody tr th:only-of-type {\n        vertical-align: middle;\n    }\n\n    .dataframe tbody tr th {\n        vertical-align: top;\n    }\n\n    .dataframe thead th {\n        text-align: right;\n    }\n</style>\n<table border=\"1\" class=\"dataframe\">\n  <thead>\n    <tr style=\"text-align: right;\">\n      <th></th>\n      <th>Verinin Yılı</th>\n      <th>Gün / Ay</th>\n      <th>Min_Hava_S_Z</th>\n      <th>Min_Hava_S</th>\n      <th>Maks_Hava_S_Z</th>\n      <th>Maks_Hava_S</th>\n      <th>Ort_Hava_S</th>\n      <th>Min_Nem_Z</th>\n      <th>Min_Nem</th>\n      <th>Maks_NemZ</th>\n      <th>...</th>\n      <th>Min_AktuelB</th>\n      <th>Maks_AktuelB_Z</th>\n      <th>Maks_AktuelB</th>\n      <th>Ort_AktuelB</th>\n      <th>Top_Yagis</th>\n      <th>Min_Yol_S_Z</th>\n      <th>Min_Yol_S</th>\n      <th>Maks_Yol_S_Z</th>\n      <th>Maks_Yol_S</th>\n      <th>Ort_Yol_S</th>\n    </tr>\n  </thead>\n  <tbody>\n    <tr>\n      <th>130</th>\n      <td>2018.0</td>\n      <td>8 Şubat</td>\n      <td>21:46:00</td>\n      <td>6.93</td>\n      <td>10:17:00</td>\n      <td>18.66</td>\n      <td>10.55</td>\n      <td>10:22:00</td>\n      <td>49.52</td>\n      <td>01:14:00</td>\n      <td>...</td>\n      <td>NaN</td>\n      <td>NaN</td>\n      <td>NaN</td>\n      <td>NaN</td>\n      <td>///</td>\n      <td>23:30:00</td>\n      <td>5.8</td>\n      <td>10:38:00</td>\n      <td>20</td>\n      <td>9.82</td>\n    </tr>\n    <tr>\n      <th>132</th>\n      <td>2018.0</td>\n      <td>10 Şubat</td>\n      <td>///</td>\n      <td>///</td>\n      <td>///</td>\n      <td>///</td>\n      <td>///</td>\n      <td>///</td>\n      <td>///</td>\n      <td>///</td>\n      <td>...</td>\n      <td>NaN</td>\n      <td>NaN</td>\n      <td>NaN</td>\n      <td>NaN</td>\n      <td>///</td>\n      <td>///</td>\n      <td>///</td>\n      <td>///</td>\n      <td>///</td>\n      <td>///</td>\n    </tr>\n    <tr>\n      <th>140</th>\n      <td>2018.0</td>\n      <td>18 Şubat</td>\n      <td>///</td>\n      <td>///</td>\n      <td>///</td>\n      <td>///</td>\n      <td>///</td>\n      <td>///</td>\n      <td>///</td>\n      <td>///</td>\n      <td>...</td>\n      <td>NaN</td>\n      <td>NaN</td>\n      <td>NaN</td>\n      <td>NaN</td>\n      <td>///</td>\n      <td>///</td>\n      <td>///</td>\n      <td>///</td>\n      <td>///</td>\n      <td>///</td>\n    </tr>\n  </tbody>\n</table>\n<p>3 rows × 29 columns</p>\n</div>"
     },
     "metadata": {},
     "execution_count": 54
    }
   ],
   "source": [
    "# Let's see what we have inside the data\n",
    "see_data = pd.read_excel(\"C:/Users/PC/Desktop/murat/PROGRAMMING/DATA ANALYSIS/data/buzlanma-erken-uyar-sistemi-verileri-beus-2017-2020.xlsx\",sheet_name=None)\n",
    "see_data[\"Alibahadır\"].iloc[[130,132,140]]\n",
    "# The \"///\"s are indicating the NaN values from unmeasured days, we need to clean these rows because it'll generate tracebacks. And also first two rows excluding the index are the datetime values in Turkish. We'll try to standardize and merge these two columns as one datetime64 format. The specific NaN values will be filled with the median in this case."
   ]
  },
  {
   "cell_type": "code",
   "execution_count": 55,
   "metadata": {},
   "outputs": [
    {
     "output_type": "execute_result",
     "data": {
      "text/plain": [
       "['Metadata',\n",
       " 'Alibahadır',\n",
       " 'Başakşehir',\n",
       " 'Çamlıca tunel güney',\n",
       " 'Çamlıca tunel kuzey',\n",
       " 'Çiftalan',\n",
       " 'Durusu',\n",
       " 'Odayeri',\n",
       " 'Paşaköy',\n",
       " 'Riva tunel güney',\n",
       " 'Riva tunel k',\n",
       " 'Sabiha Gökçen',\n",
       " 'Subaşı',\n",
       " 'Süreyyapaşa',\n",
       " 'Uskumruköy',\n",
       " 'YSS Köprüsü',\n",
       " 'beylerbeyi',\n",
       " 'D100 gümüşyaka',\n",
       " 'D100 kumburgaz',\n",
       " 'D100 silivri',\n",
       " 'Göksu evleri',\n",
       " 'Harem rampası',\n",
       " 'İstanbul havalimanı',\n",
       " 'Kayaşehir',\n",
       " 'Kemerburgaz',\n",
       " 'Kozyatağı',\n",
       " 'TEM Çatalc Gişeler',\n",
       " 'Bakırköy Sahilyolu',\n",
       " 'Tarlabaşı',\n",
       " 'Aşiyan',\n",
       " 'Sultanbeyli',\n",
       " 'Tuzla Piyade Okulu',\n",
       " 'Şile Yolu Ömerli']"
      ]
     },
     "metadata": {},
     "execution_count": 55
    }
   ],
   "source": [
    "import pandas as pd\n",
    "main_data = pd.read_excel(\"C:/Users/PC/Desktop/murat/PROGRAMMING/DATA ANALYSIS/data/buzlanma-erken-uyar-sistemi-verileri-beus-2017-2020.xlsx\",sheet_name=None,na_values=\"///\") # returns a dictionary of the excel file including all excel sheets as keys and the variable inside is the dataframe for sheets\n",
    "sheet_names = list(main_data.keys()) # returns the list including all sheet names\n",
    "sheet_names"
   ]
  },
  {
   "source": [
    "# Here I encountered such an interesting traceback, and the solution was even more interesting. Normally; here in ipynb, the code works without any problem but when I wanted to run this code in \".py\" format I was having traceback. The solution was just to write the following commentary line as \"# pylint: disable=abstract-class-instantiated\" and this made python ignore the traceback and I could move on. I wanted to have a clean excel file here outside the for loop I'm about to build.\n",
    "writer = pd.ExcelWriter('clean_sheet.xlsx',engine='xlsxwriter')# pylint: disable=abstract-class-instantiated\n",
    "writer"
   ],
   "cell_type": "code",
   "metadata": {},
   "execution_count": 56,
   "outputs": [
    {
     "output_type": "execute_result",
     "data": {
      "text/plain": [
       "<pandas.io.excel._xlsxwriter._XlsxWriter at 0x2a5d0d54988>"
      ]
     },
     "metadata": {},
     "execution_count": 56
    }
   ]
  },
  {
   "cell_type": "code",
   "execution_count": 58,
   "metadata": {},
   "outputs": [
    {
     "output_type": "stream",
     "name": "stdout",
     "text": [
      "Alibahadır\n",
      "Başakşehir\n",
      "Çamlıca tunel güney\n",
      "Çamlıca tunel kuzey\n",
      "Çiftalan\n",
      "Durusu\n",
      "Odayeri\n",
      "Paşaköy\n",
      "Riva tunel güney\n",
      "Riva tunel k\n",
      "Sabiha Gökçen\n",
      "Subaşı\n",
      "Süreyyapaşa\n",
      "Uskumruköy\n",
      "YSS Köprüsü\n",
      "beylerbeyi\n",
      "D100 gümüşyaka\n",
      "D100 kumburgaz\n",
      "D100 silivri\n",
      "Göksu evleri\n",
      "Harem rampası\n",
      "İstanbul havalimanı\n",
      "Kayaşehir\n",
      "Kemerburgaz\n",
      "Kozyatağı\n",
      "TEM Çatalc Gişeler\n",
      "Bakırköy Sahilyolu\n",
      "Tarlabaşı\n",
      "Aşiyan\n",
      "Sultanbeyli\n",
      "Tuzla Piyade Okulu\n",
      "Şile Yolu Ömerli\n"
     ]
    }
   ],
   "source": [
    "for sheet in sheet_names[1:]: # excluding the metadata in the first sheet\n",
    "    \n",
    "    active_sheet = pd.read_excel(\"C:/Users/PC/Desktop/murat/PROGRAMMING/DATA ANALYSIS/data/buzlanma-erken-uyar-sistemi-verileri-beus-2017-2020.xlsx\",sheet_name=sheet,na_values=\"///\",skiprows=[1]) # we'll skip the first row to pass the column names, iterate through the sheet names and replace the \"///\"s with NaN.\n",
    "\n",
    "    active_sheet_med = active_sheet.median() # storing the active median in the variable\n",
    "    active_med = active_sheet_med.to_dict() # converting active_sheet_med from series to dataframe object\n",
    "    \n",
    "    for col in active_sheet: # every column name in the active sheet represented by col\n",
    "        active_col = active_sheet[col]\n",
    "        \n",
    "        if active_col.isnull().all(): # there are some columns with full of NaN values, we want to drop them\n",
    "            active_sheet.drop(columns=col,inplace=True)\n",
    "\n",
    "    \n",
    "    \n",
    "    active_sheet.fillna(active_med,inplace=True) # fill the NaN values with the median of the active column in the for loop\n",
    "    \n",
    "    active_sheet.to_excel(writer, sheet_name=sheet,index=False) # converting back to excel\n",
    "    print(sheet) # while iterating, i wanted to see which one is being written so added this print command\n",
    "writer.save()"
   ]
  },
  {
   "cell_type": "code",
   "execution_count": 59,
   "metadata": {},
   "outputs": [
    {
     "output_type": "execute_result",
     "data": {
      "text/plain": [
       "   Verinin Yılı  Gün / Ay Min_Hava_S_Z  Min_Hava_S Maks_Hava_S_Z  Maks_Hava_S  \\\n",
       "0          2017    2 Ekim     03:31:00       13.97      11:19:00        18.90   \n",
       "1          2017    3 Ekim     23:59:00        8.95      09:18:00        19.42   \n",
       "2          2017    4 Ekim     03:08:00        7.65      13:51:00        19.82   \n",
       "3          2017    5 Ekim     04:00:00        7.57      12:58:00        23.05   \n",
       "4          2017    6 Ekim     03:26:00       11.47      13:57:00        25.46   \n",
       "\n",
       "   Ort_Hava_S Min_Nem_Z  Min_Nem Maks_NemZ  ...  Maks_RuzH_Z  Maks_RuzH  \\\n",
       "0       16.37  10:40:00    51.72  03:34:00  ...     03:53:00      10.33   \n",
       "1       14.64  08:19:00    46.01  21:54:00  ...     01:01:00       8.16   \n",
       "2       13.75  08:22:00    55.43  23:58:00  ...     09:45:00       7.19   \n",
       "3       15.29  12:58:00    45.53  00:48:00  ...     11:16:00       5.77   \n",
       "4       17.53  13:53:00    37.11  23:59:00  ...     09:06:00      10.40   \n",
       "\n",
       "  Ort_RuzH  Ort_RuzY Top_Yagis  Min_Yol_S_Z  Min_Yol_S  Maks_Yol_S_Z  \\\n",
       "0     4.65     44.16      0.43     03:12:00       13.7      11:24:00   \n",
       "1     2.84    100.22      0.00     23:58:00       11.7      09:20:00   \n",
       "2     1.97    126.73      0.00     03:03:00       10.3      11:20:00   \n",
       "3     2.29    182.64      0.07     03:59:00       10.0      10:59:00   \n",
       "4     2.94    193.86     12.93     03:53:00       12.2      10:45:00   \n",
       "\n",
       "   Maks_Yol_S Ort_Yol_S  \n",
       "0        31.4     18.84  \n",
       "1        32.9     19.00  \n",
       "2        35.1     19.70  \n",
       "3        34.3     19.79  \n",
       "4        35.1     21.34  \n",
       "\n",
       "[5 rows x 24 columns]"
      ],
      "text/html": "<div>\n<style scoped>\n    .dataframe tbody tr th:only-of-type {\n        vertical-align: middle;\n    }\n\n    .dataframe tbody tr th {\n        vertical-align: top;\n    }\n\n    .dataframe thead th {\n        text-align: right;\n    }\n</style>\n<table border=\"1\" class=\"dataframe\">\n  <thead>\n    <tr style=\"text-align: right;\">\n      <th></th>\n      <th>Verinin Yılı</th>\n      <th>Gün / Ay</th>\n      <th>Min_Hava_S_Z</th>\n      <th>Min_Hava_S</th>\n      <th>Maks_Hava_S_Z</th>\n      <th>Maks_Hava_S</th>\n      <th>Ort_Hava_S</th>\n      <th>Min_Nem_Z</th>\n      <th>Min_Nem</th>\n      <th>Maks_NemZ</th>\n      <th>...</th>\n      <th>Maks_RuzH_Z</th>\n      <th>Maks_RuzH</th>\n      <th>Ort_RuzH</th>\n      <th>Ort_RuzY</th>\n      <th>Top_Yagis</th>\n      <th>Min_Yol_S_Z</th>\n      <th>Min_Yol_S</th>\n      <th>Maks_Yol_S_Z</th>\n      <th>Maks_Yol_S</th>\n      <th>Ort_Yol_S</th>\n    </tr>\n  </thead>\n  <tbody>\n    <tr>\n      <th>0</th>\n      <td>2017</td>\n      <td>2 Ekim</td>\n      <td>03:31:00</td>\n      <td>13.97</td>\n      <td>11:19:00</td>\n      <td>18.90</td>\n      <td>16.37</td>\n      <td>10:40:00</td>\n      <td>51.72</td>\n      <td>03:34:00</td>\n      <td>...</td>\n      <td>03:53:00</td>\n      <td>10.33</td>\n      <td>4.65</td>\n      <td>44.16</td>\n      <td>0.43</td>\n      <td>03:12:00</td>\n      <td>13.7</td>\n      <td>11:24:00</td>\n      <td>31.4</td>\n      <td>18.84</td>\n    </tr>\n    <tr>\n      <th>1</th>\n      <td>2017</td>\n      <td>3 Ekim</td>\n      <td>23:59:00</td>\n      <td>8.95</td>\n      <td>09:18:00</td>\n      <td>19.42</td>\n      <td>14.64</td>\n      <td>08:19:00</td>\n      <td>46.01</td>\n      <td>21:54:00</td>\n      <td>...</td>\n      <td>01:01:00</td>\n      <td>8.16</td>\n      <td>2.84</td>\n      <td>100.22</td>\n      <td>0.00</td>\n      <td>23:58:00</td>\n      <td>11.7</td>\n      <td>09:20:00</td>\n      <td>32.9</td>\n      <td>19.00</td>\n    </tr>\n    <tr>\n      <th>2</th>\n      <td>2017</td>\n      <td>4 Ekim</td>\n      <td>03:08:00</td>\n      <td>7.65</td>\n      <td>13:51:00</td>\n      <td>19.82</td>\n      <td>13.75</td>\n      <td>08:22:00</td>\n      <td>55.43</td>\n      <td>23:58:00</td>\n      <td>...</td>\n      <td>09:45:00</td>\n      <td>7.19</td>\n      <td>1.97</td>\n      <td>126.73</td>\n      <td>0.00</td>\n      <td>03:03:00</td>\n      <td>10.3</td>\n      <td>11:20:00</td>\n      <td>35.1</td>\n      <td>19.70</td>\n    </tr>\n    <tr>\n      <th>3</th>\n      <td>2017</td>\n      <td>5 Ekim</td>\n      <td>04:00:00</td>\n      <td>7.57</td>\n      <td>12:58:00</td>\n      <td>23.05</td>\n      <td>15.29</td>\n      <td>12:58:00</td>\n      <td>45.53</td>\n      <td>00:48:00</td>\n      <td>...</td>\n      <td>11:16:00</td>\n      <td>5.77</td>\n      <td>2.29</td>\n      <td>182.64</td>\n      <td>0.07</td>\n      <td>03:59:00</td>\n      <td>10.0</td>\n      <td>10:59:00</td>\n      <td>34.3</td>\n      <td>19.79</td>\n    </tr>\n    <tr>\n      <th>4</th>\n      <td>2017</td>\n      <td>6 Ekim</td>\n      <td>03:26:00</td>\n      <td>11.47</td>\n      <td>13:57:00</td>\n      <td>25.46</td>\n      <td>17.53</td>\n      <td>13:53:00</td>\n      <td>37.11</td>\n      <td>23:59:00</td>\n      <td>...</td>\n      <td>09:06:00</td>\n      <td>10.40</td>\n      <td>2.94</td>\n      <td>193.86</td>\n      <td>12.93</td>\n      <td>03:53:00</td>\n      <td>12.2</td>\n      <td>10:45:00</td>\n      <td>35.1</td>\n      <td>21.34</td>\n    </tr>\n  </tbody>\n</table>\n<p>5 rows × 24 columns</p>\n</div>"
     },
     "metadata": {},
     "execution_count": 59
    }
   ],
   "source": [
    "cleany =  pd.read_excel(\"clean_sheet.xlsx\",sheet_name=\"Alibahadır\")\n",
    "cleany.head()"
   ]
  },
  {
   "cell_type": "code",
   "execution_count": null,
   "metadata": {},
   "outputs": [],
   "source": []
  }
 ]
}